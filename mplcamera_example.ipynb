{
  "nbformat": 4,
  "nbformat_minor": 0,
  "metadata": {
    "colab": {
      "name": "mplcamera_example",
      "provenance": [],
      "authorship_tag": "ABX9TyPykU2AJWtVgaVNaBBY0MCf",
      "include_colab_link": true
    },
    "kernelspec": {
      "name": "python3",
      "display_name": "Python 3"
    }
  },
  "cells": [
    {
      "cell_type": "markdown",
      "metadata": {
        "id": "view-in-github",
        "colab_type": "text"
      },
      "source": [
        "<a href=\"https://colab.research.google.com/github/amanbagrecha/google_colab_notebooks/blob/main/mplcamera_example.ipynb\" target=\"_parent\"><img src=\"https://colab.research.google.com/assets/colab-badge.svg\" alt=\"Open In Colab\"/></a>"
      ]
    },
    {
      "cell_type": "code",
      "metadata": {
        "id": "M3ofTh4O53CI"
      },
      "source": [
        "!git clone https://github.com/znstrider/mplcamera"
      ],
      "execution_count": null,
      "outputs": []
    },
    {
      "cell_type": "code",
      "metadata": {
        "id": "dA3lMsb75_n_"
      },
      "source": [
        "\r\n",
        "import matplotlib.pyplot as plt\r\n",
        "from mplcamera import Camera\r\n",
        "\r\n",
        "fig, ax = plt.subplots()\r\n",
        "ax.set_ylim(-0.25, 3.25)\r\n",
        "\r\n",
        "cam = Camera(fig)\r\n",
        "for i in range(4):\r\n",
        "    plt.plot([i] * 10)\r\n",
        "    cam.snap()\r\n",
        "\r\n",
        "# use a different duration for frame 3. use loop=1 to not loop the gif\r\n",
        "mimsave_kwargs = {'duration': [0.25, 0.25, 1, 0.25], 'loop': 0}\r\n",
        "\r\n",
        "cam.save('mpl_camera_animation.gif')\r\n"
      ],
      "execution_count": null,
      "outputs": []
    }
  ]
}