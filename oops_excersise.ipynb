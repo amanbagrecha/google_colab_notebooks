{
  "nbformat": 4,
  "nbformat_minor": 0,
  "metadata": {
    "colab": {
      "name": "oops_excersise.ipynb",
      "provenance": [],
      "include_colab_link": true
    },
    "kernelspec": {
      "name": "python3",
      "display_name": "Python 3"
    }
  },
  "cells": [
    {
      "cell_type": "markdown",
      "metadata": {
        "id": "view-in-github",
        "colab_type": "text"
      },
      "source": [
        "<a href=\"https://colab.research.google.com/github/amanbagrecha/google_colab_notebooks/blob/main/oops_excersise.ipynb\" target=\"_parent\"><img src=\"https://colab.research.google.com/assets/colab-badge.svg\" alt=\"Open In Colab\"/></a>"
      ]
    },
    {
      "cell_type": "code",
      "metadata": {
        "id": "hkCQaReMJcLA"
      },
      "source": [
        "import sys"
      ],
      "execution_count": null,
      "outputs": []
    },
    {
      "cell_type": "code",
      "metadata": {
        "id": "LRFxTHvPKTT5"
      },
      "source": [
        "help(sys)"
      ],
      "execution_count": null,
      "outputs": []
    },
    {
      "cell_type": "code",
      "metadata": {
        "colab": {
          "base_uri": "https://localhost:8080/"
        },
        "id": "OM9D8WuCKXAh",
        "outputId": "a2f51d6e-d1c5-4841-d0aa-1f005e518031"
      },
      "source": [
        "sys.version_info"
      ],
      "execution_count": null,
      "outputs": [
        {
          "output_type": "execute_result",
          "data": {
            "text/plain": [
              "3"
            ]
          },
          "metadata": {
            "tags": []
          },
          "execution_count": 12
        }
      ]
    },
    {
      "cell_type": "code",
      "metadata": {
        "colab": {
          "base_uri": "https://localhost:8080/"
        },
        "id": "pc9JXBn6LMaj",
        "outputId": "22021be8-2e59-4f04-f971-d2b27ba29ce7"
      },
      "source": [
        "#q1\r\n",
        "print(sys.version.split()[0])"
      ],
      "execution_count": null,
      "outputs": [
        {
          "output_type": "stream",
          "text": [
            "3.6.9\n"
          ],
          "name": "stdout"
        }
      ]
    },
    {
      "cell_type": "code",
      "metadata": {
        "colab": {
          "base_uri": "https://localhost:8080/"
        },
        "id": "deIqcFzpMtVg",
        "outputId": "c929cfa8-4a86-4e4a-e20d-199a9dd58b4e"
      },
      "source": [
        "#q2 finding the namespace\r\n",
        "import datetime\r\n",
        "datetime.__dict__.keys()"
      ],
      "execution_count": null,
      "outputs": [
        {
          "output_type": "execute_result",
          "data": {
            "text/plain": [
              "dict_keys(['__name__', '__doc__', '__package__', '__loader__', '__spec__', '__file__', '__cached__', '__builtins__', 'sys', 'MINYEAR', 'MAXYEAR', 'timedelta', 'date', 'tzinfo', 'time', 'datetime', 'timezone', 'datetime_CAPI'])"
            ]
          },
          "metadata": {
            "tags": []
          },
          "execution_count": 27
        }
      ]
    },
    {
      "cell_type": "code",
      "metadata": {
        "colab": {
          "base_uri": "https://localhost:8080/"
        },
        "id": "hhUXpWI2O2iL",
        "outputId": "2d1aee07-72d7-4d26-a00e-4ff5e516a490"
      },
      "source": [
        "print(*sorted([i for i in datetime.__dict__.keys()], reverse=False ),sep='\\n')"
      ],
      "execution_count": null,
      "outputs": [
        {
          "output_type": "stream",
          "text": [
            "MAXYEAR\n",
            "MINYEAR\n",
            "__builtins__\n",
            "__cached__\n",
            "__doc__\n",
            "__file__\n",
            "__loader__\n",
            "__name__\n",
            "__package__\n",
            "__spec__\n",
            "date\n",
            "datetime\n",
            "datetime_CAPI\n",
            "sys\n",
            "time\n",
            "timedelta\n",
            "timezone\n",
            "tzinfo\n"
          ],
          "name": "stdout"
        }
      ]
    },
    {
      "cell_type": "code",
      "metadata": {
        "id": "_u6ZmlBDREfP"
      },
      "source": [
        "#q3 find class name\r\n",
        "import uuid\r\n",
        "\r\n",
        "\r\n",
        "class Product:\r\n",
        "\r\n",
        "    def __init__(self, product_name, price):\r\n",
        "        self.product_id = self.get_id()\r\n",
        "        self.product_name = product_name\r\n",
        "        self.price = price\r\n",
        "\r\n",
        "    def __repr__(self):\r\n",
        "        return f\"Product(product_name='{self.product_name}', price={self.price})\"\r\n",
        "\r\n",
        "    @staticmethod\r\n",
        "    def get_id():\r\n",
        "        return str(uuid.uuid4().fields[-1])[:6]\r\n",
        "print(*Product.__dict__.keys(), sep='\\n')"
      ],
      "execution_count": null,
      "outputs": []
    },
    {
      "cell_type": "code",
      "metadata": {
        "colab": {
          "base_uri": "https://localhost:8080/"
        },
        "id": "QfXgslCmRp7x",
        "outputId": "20af0482-9e8f-4aea-b118-7a49666b85a8"
      },
      "source": [
        "#q4 display namespace\r\n",
        "import uuid\r\n",
        "\r\n",
        "\r\n",
        "class Product:\r\n",
        "\r\n",
        "    def __init__(self, product_name, product_id, price):\r\n",
        "        self.product_name = product_name\r\n",
        "        self.product_id = product_id\r\n",
        "        self.price = price\r\n",
        "\r\n",
        "    def __repr__(self):\r\n",
        "        return f\"Product(product_name='{self.product_name}', price={self.price})\"\r\n",
        "\r\n",
        "\r\n",
        "product = Product('Mobile Phone', '54274', 2900)\r\n",
        "print(product.__dict__)"
      ],
      "execution_count": null,
      "outputs": [
        {
          "output_type": "stream",
          "text": [
            "{'product_name': 'Mobile Phone', 'product_id': '54274', 'price': 2900}\n"
          ],
          "name": "stdout"
        }
      ]
    },
    {
      "cell_type": "code",
      "metadata": {
        "id": "nz05t5tXV6v2",
        "outputId": "fc1126f2-f38f-4d29-ba73-d989a011abce",
        "colab": {
          "base_uri": "https://localhost:8080/"
        }
      },
      "source": [
        "def stick(*args):\r\n",
        "\r\n",
        "  abc=[arg for arg in args if type(arg)==str]\r\n",
        "  print(\"#\".join(abc))\r\n",
        "  \r\n",
        "stick(\"sport\", \"summer\", 4, True)"
      ],
      "execution_count": 17,
      "outputs": [
        {
          "output_type": "stream",
          "text": [
            "sport#summer\n"
          ],
          "name": "stdout"
        }
      ]
    },
    {
      "cell_type": "code",
      "metadata": {
        "colab": {
          "base_uri": "https://localhost:8080/"
        },
        "id": "MCnjhHvkYRVu",
        "outputId": "16927e03-4b5d-4eb1-edaf-b91abb3800ef"
      },
      "source": [
        "type(\"aman\")"
      ],
      "execution_count": 13,
      "outputs": [
        {
          "output_type": "execute_result",
          "data": {
            "text/plain": [
              "str"
            ]
          },
          "metadata": {
            "tags": []
          },
          "execution_count": 13
        }
      ]
    }
  ]
}